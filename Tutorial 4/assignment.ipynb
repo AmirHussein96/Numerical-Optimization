{
 "cells": [
  {
   "cell_type": "code",
   "execution_count": 2,
   "metadata": {
    "collapsed": true
   },
   "outputs": [],
   "source": [
    "import numpy as np\n",
    "from numpy import linalg as la\n",
    "from os import sys\n",
    "import matplotlib.pyplot as plt\n",
    "import matplotlib.image as mpimg\n",
    "#import autograd\n",
    "from math import *\n",
    "%matplotlib inline"
   ]
  },
  {
   "cell_type": "markdown",
   "metadata": {},
   "source": [
    "# Problem 1 - Exercise in $\\mathbb{R}^3$"
   ]
  },
  {
   "cell_type": "markdown",
   "metadata": {},
   "source": [
    "We are given the following optimization problem:\n",
    "\n",
    "\\begin{align}\n",
    "&\\underset{x}\\min & & x_1 x_2 + x_2 x_3 \\\\\n",
    "& \\text{s.t.} & & x_1^2 + x_2^2 - 2 = 0 \\\\ \n",
    "& & & x_1^2 + x_3^2 - 2 = 0\n",
    "\\end{align}\n",
    "\n",
    "Let $\\mathbf{x} = \\begin{pmatrix} x_1 \\\\ x_2 \\\\ x_3 \\end{pmatrix} \\in \\mathbb{R}^3$. We are to minimize $f(\\mathbf{x}) = x_1 x_2 + x_2 x_3$ subject to the constraint: $\\mathbf{h}(\\mathbf{x}) = \\begin{pmatrix} h_1(\\mathbf{x}) \\\\ h_2(\\mathbf{x}) \\end{pmatrix} = \\begin{pmatrix} x_1^2 + x_2^2 - 2 \\\\ x_1^2 + x_3^2 - 2 \\end{pmatrix} = \\mathbf{0}$.\n",
    "\n",
    "We form the Lagrangian of the above problem as follows:\n",
    "\n",
    "$$\\mathcal{L}(\\mathbf{x}, \\mathbf{\\lambda}) = f(\\mathbf{x}) + \\lambda^\\top \\mathbf{h}(\\mathbf{x}) = x_1 x_2 + x_2 x_3 + \\lambda_1 (x_1^2 + x_2^2 - 2) + \\lambda_2 (x_2^2 + x_3^2 - 2)$$\n",
    "\n",
    "where $\\mathbf{\\lambda} = \\begin{pmatrix} \\lambda_1 \\\\ \\lambda_2 \\end{pmatrix} \\in \\mathbb{R^2}$. \n",
    "\n",
    "The first order optimality conditions are given by: $\\begin{cases} \\nabla_{\\mathbf{x}} \\mathcal{L}(\\mathbf{x}, \\mathbf{\\lambda}) = 0 \\\\ \\nabla_{\\mathbf{\\lambda}} \\mathcal{L}(\\mathbf{x}, \\mathbf{\\lambda}) = 0 \\end{cases}$. Solving for the 2 gradients, we get: \n",
    "\n",
    "$\\nabla_{\\mathbf{x}} \\mathcal{L}(\\mathbf{x}, \\mathbf{\\lambda}) = \\begin{pmatrix} x_2 \\\\ x_1 + x_3 \\\\ x_2 \\end{pmatrix} + \\lambda_1 \\begin{pmatrix} 2x_1 \\\\ 2x_2 \\\\ 0 \\end{pmatrix} + \\lambda_2 \\begin{pmatrix} 0 \\\\ 2x_2 \\\\ 2x_3\\end{pmatrix} = \\begin{pmatrix} x_2 + 2\\lambda_1 x_1 \\\\ x_1 + x_3 + 2\\lambda_1 x_2 + 2\\lambda_2 x_2 \\\\ x_2 + 2\\lambda_2 x_3 \\end{pmatrix} = \\mathbf{0}.$\n",
    "\n",
    "$\\nabla_{\\mathbf{\\lambda}} \\mathcal{L}(\\mathbf{x}, \\mathbf{\\lambda}) = \\begin{pmatrix} x_1^2 + x_2^2 - 2 \\\\ x_2^2 + x_3^2 - 2 \\end{pmatrix} = \\mathbf{0}$.\n",
    "\n",
    "This yields the following system of non-linear equations to be solved:\n",
    "\n",
    "$\\begin{cases} x_2 &+ &2\\lambda_1 x_1 &&&& & = 0 \\\\ x_1& + &x_3 &+ &2\\lambda_1 x_2 &+& 2\\lambda_2 x_2 &= 0 \\\\ x_2& +& 2\\lambda_2 x_3&&&& &= 0\\\\ x_1^2 &+& x_2^2 &- &2&& &= 0\\\\ x_2^2& +& x_3^2 &-& 2&&& = 0 \\end{cases}$"
   ]
  },
  {
   "cell_type": "markdown",
   "metadata": {},
   "source": [
    "## Defining the system and the corresponding gradients"
   ]
  },
  {
   "cell_type": "markdown",
   "metadata": {},
   "source": [
    "For computational reasons and code cleanness, we consider $\\mathbf{x} = \\begin{pmatrix} x_1 \\\\ x_2 \\\\ x_3 \\\\ \\lambda_1 \\\\ \\lambda_2 \\end{pmatrix}$."
   ]
  },
  {
   "cell_type": "code",
   "execution_count": 3,
   "metadata": {
    "collapsed": true,
    "scrolled": true
   },
   "outputs": [],
   "source": [
    "import sympy as sp\n",
    "# symbic function and its jacobian\n",
    "x1 = sp.Symbol('x1')\n",
    "x2 = sp.Symbol('x2')\n",
    "x3 = sp.Symbol('x3')\n",
    "lamda1 = sp.Symbol('lamda1')\n",
    "lamda2 = sp.Symbol('lamda2')\n",
    "x = np.array([x1, x2,x3,lamda1,lamda2])\n",
    "g_Lx1=x[1]-2*lamda1*x[0]-2*lamda2*x[0]\n",
    "g_Lx2=x[0]+x[2]-2*lamda1*x[1]\n",
    "g_Lx3=x[1]-2*lamda2*x[2]\n",
    "g_L_lam1=x1**2 + x2**2 - 2\n",
    "g_L_lam2= x1**2 + x3**2 - 2\n",
    "\n",
    "F = sp.Matrix([g_Lx1,g_Lx2,g_Lx3,g_L_lam1,g_L_lam2])\n",
    "#F = sp.Matrix([f_symb,g_symb1,g_symb2])\n",
    "J=F.jacobian(x)\n",
    "#J=sp.derive_by_array(F,x)\n",
    "#Eq = np.transpose(np.transpose(lam)*J)\n",
    "#Eq = np.transpose(lam)*J\n",
    "\n",
    "F_true=sp.lambdify([x], F, np)\n",
    "J_true=sp.lambdify([x], J, np)\n"
   ]
  },
  {
   "cell_type": "code",
   "execution_count": 4,
   "metadata": {},
   "outputs": [
    {
     "data": {
      "text/plain": [
       "Matrix([\n",
       "[-2*lamda1 - 2*lamda2,         1,         0, -2*x1, -2*x1],\n",
       "[                   1, -2*lamda1,         1, -2*x2,     0],\n",
       "[                   0,         1, -2*lamda2,     0, -2*x3],\n",
       "[                2*x1,      2*x2,         0,     0,     0],\n",
       "[                2*x1,         0,      2*x3,     0,     0]])"
      ]
     },
     "execution_count": 4,
     "metadata": {},
     "output_type": "execute_result"
    }
   ],
   "source": [
    "J\n",
    "#Full_Eq"
   ]
  },
  {
   "cell_type": "code",
   "execution_count": 5,
   "metadata": {},
   "outputs": [
    {
     "data": {
      "text/plain": [
       "(5, 5)"
      ]
     },
     "execution_count": 5,
     "metadata": {},
     "output_type": "execute_result"
    }
   ],
   "source": [
    "a=np.array([1,1,0.5,0.1,0.2])\n",
    "np.transpose(J_true(a)).shape"
   ]
  },
  {
   "cell_type": "markdown",
   "metadata": {},
   "source": [
    "Globalized newton method"
   ]
  },
  {
   "cell_type": "code",
   "execution_count": 6,
   "metadata": {
    "collapsed": true
   },
   "outputs": [],
   "source": [
    "def merit_func(f,x):\n",
    "    return .5*np.transpose(f(x))@f(x).reshape(-1)\n",
    "\n",
    "def backtrack_linesearch(F_true,merit_func, gk, pk, xk, alpha = 0.1, beta = 0.8):\n",
    "    t = 1\n",
    "    while ( merit_func(F_true,xk + t*pk)[0] >= merit_func(F_true,xk)[0] + gk @ pk*alpha * t  ):\n",
    "        t *= beta\n",
    "    return t\n",
    "    "
   ]
  },
  {
   "cell_type": "code",
   "execution_count": 7,
   "metadata": {
    "scrolled": true
   },
   "outputs": [
    {
     "name": "stdout",
     "output_type": "stream",
     "text": [
      "3.1622776601683795\n",
      "0.5796011559684817\n",
      "0.08432770501379501\n",
      "0.0008563365753152141\n"
     ]
    }
   ],
   "source": [
    "\n",
    "a=np.array([1,1,1,1,1])\n",
    "history=a\n",
    "while(la.norm(F_true(a)) > 1e-6):\n",
    "    print(la.norm(F_true(a)))\n",
    "    #using svd\n",
    "    inv=la.pinv(np.transpose(J_true(a))@J_true(a).reshape(5,5),rcond=1e-3)\n",
    "    p=-inv@np.transpose(J_true(a))@F_true(a).reshape(-1)\n",
    "    t = backtrack_linesearch(F_true,merit_func,np.transpose(J_true(a))@F_true(a).reshape(-1), p, a)\n",
    "    a=a+t*p\n",
    "    history = np.vstack( (history, a) )"
   ]
  },
  {
   "cell_type": "code",
   "execution_count": 8,
   "metadata": {},
   "outputs": [
    {
     "data": {
      "image/png": "[encoded data removed]",
      "text/plain": [
       "<matplotlib.figure.Figure at 0x1ccedfad208>"
      ]
     },
     "metadata": {},
     "output_type": "display_data"
    }
   ],
   "source": [
    "nsteps = history.shape[0]\n",
    "fhist = np.zeros(nsteps)\n",
    "for i in range(nsteps):\n",
    "    fhist[i] = la.norm(F_true(history[i]))\n",
    "plt.figure()\n",
    "\n",
    "plt.semilogy(np.arange(0, nsteps), fhist, linewidth=1)\n",
    "plt.title('Convergence Performance')\n",
    "plt.xlabel('Iteration count')\n",
    "plt.ylabel('r$|f^k - f^*|$')\n",
    "plt.show()"
   ]
  },
  {
   "cell_type": "code",
   "execution_count": 424,
   "metadata": {},
   "outputs": [
    {
     "data": {
      "text/plain": [
       "array([0.5411961 , 1.30656297, 1.30656297, 0.70710676, 0.50000002])"
      ]
     },
     "execution_count": 424,
     "metadata": {},
     "output_type": "execute_result"
    }
   ],
   "source": [
    "history[-1]"
   ]
  },
  {
   "cell_type": "markdown",
   "metadata": {},
   "source": [
    "# Problem 2 - Significance of the Lagrange Multipliers\n"
   ]
  },
  {
   "cell_type": "markdown",
   "metadata": {},
   "source": [
    "Consider the optimization problem:\n",
    "\n",
    "\\begin{equation}\n",
    "\\begin{aligned}\n",
    "& \\underset{x}\\min\n",
    "& & f(x) \\\\\n",
    "& \\text{s.t.} & &  h_i(x) = 0  \\quad i = 1, \\ldots, p\\\\\n",
    "\\end{aligned}\n",
    "\\end{equation}\n",
    "\n",
    "\n",
    "We assume this problem has an optimal solution $x^*$. At $x^*$, we have $h_i(x^*) = 0 \\; \\forall i = 1, \\ldots, p$. Assume, the $i^{th}$ constraint is varied by $\\epsilon$. Using Taylor's expansion of $h_i(\\cdot)$ at $x^*$:\n",
    "\n",
    "\\begin{align}\n",
    "h_i(x^* + \\Delta x) & = h_i(x^*) + \\nabla h_i(x^*)^\\top \\Delta x + \\ldots \\\\ \n",
    "& = 0 + \\nabla h_i(x^*)^\\top \\Delta x + \\ldots \\\\ \n",
    "& = \\epsilon \\\\ \n",
    "\\end{align}\n",
    "\n",
    "We thus have $\\nabla h_i(x^*)^\\top \\Delta x = \\epsilon$. We now examine the value of $f(\\cdot)$ a $\\Delta x$ step from $x^*$. Using Taylor's expansion:\n",
    "\n",
    "\\begin{align}\n",
    "f(x^* + \\Delta x) & = f(x^*) + \\nabla f(x^*)^\\top \\Delta x + \\ldots \\\\ \n",
    "\\end{align}\n",
    "\n",
    "We find that, up to an error of $o\\left(\\lVert \\Delta x \\lVert^2\\right)$:\n",
    "\n",
    "\\begin{align}\n",
    "\\Delta f & = f(x^* + \\Delta x) - f(x^*) & \\\\\n",
    "& = \\nabla f(x^*)^\\top \\Delta x & \\\\\n",
    "& = \\left(- \\lambda^{*^\\top} \\nabla \\mathbf{h} (x^*)\\right) ^ \\top \\Delta x & \\\\ \n",
    "& = - \\lambda_i^* \\nabla h_i(x^*)^\\top \\Delta x & \\left(\\nabla h_j^* \\bot \\Delta x \\quad \\forall \\, j \\neq i\\right) \\\\ \n",
    "& = -\\lambda_i^* \\, \\epsilon\n",
    "\\end{align}\n",
    "\n",
    "For infinitesimal change, we get $\\frac{df^*}{d\\epsilon} = -\\lambda_i^*$. This means that if the $i^{th}$ constraint changes by $\\epsilon$, the objective function value will change by $-\\lambda_i^*$, i.e. the Lagrangian multipliers can be thought of as the sensitivities of the objective function relative to the constraints."
   ]
  },
  {
   "cell_type": "markdown",
   "metadata": {},
   "source": [
    "# Problem 3 - Nonnegativity of the Lagrange Multipliers"
   ]
  },
  {
   "cell_type": "markdown",
   "metadata": {},
   "source": [
    "Let the optimization problem be defined as follows:\n",
    "\n",
    "\\begin{equation}\n",
    "\\begin{aligned}\n",
    "& \\underset{x} \\min & & f(x) \\\\\n",
    "& \\text{s.t.} & & h_i(x) = 0 \\quad i = 1, \\ldots, p \\\\\n",
    "& & & g_i(x) \\leq 0 \\quad i = 1, \\dots, m\n",
    "\\end{aligned}\n",
    "\\end{equation}\n",
    "\n",
    "where $x\\in \\mathbb{R}^n$, and $f, h_i, g_j: \\mathbb{R}^n \\rightarrow \\mathbb{R} \\quad \\forall \\,i, \\,j$.\n",
    "\n",
    "We define the Lagrangian of the equation as:\n",
    "\n",
    "$$\n",
    "\\mathcal{L}(x; \\mu, \\lambda) = f(x) + \\mu^\\top \\mathbf{h} (x) + \\lambda^\\top \\mathbf{g}(x)\n",
    "$$\n",
    "where $\\mu = \\left[ \\mu_1, \\ldots, \\mu_p \\right]^\\top \\in \\mathbb{R}^p$ and $\\lambda = \\left[ \\lambda_1, \\ldots, \\lambda_m \\right]^\\top \\in \\mathbb{R}_+^m$. In this problem, we will justify the range of the Lagrangian multipliers.\n",
    "\n",
    "In general, for a given optimization problem, there are 2 types of relaxations:\n",
    "- 1\\. Removing one or multiple constraints (assuming the removed constraints are active at the optimal point). This makes the feasible region bigger, and hence introduces the possibility of having a new minimum.\n",
    "- 2\\. Let $\\tilde{f}: \\mathbb{R}^n \\rightarrow \\mathbb{R}$ be such that $\\tilde{f}(x) \\leq f(x) \\; \\forall x$. Solving the optimization problem with the new objective $\\tilde{f}$ results in an optimal point $\\tilde{x}^* \\leq x^*$.\n",
    "\n",
    "The Lagrangian equivalent incorporates these 2 relaxations, by removing all constraints, and adding the constraints to the objective function in a way that the new objective function is a relaxed version of the old one. To see this, consider the following. \n",
    "\n",
    "At the optimal point, $\\mathbf{h}(x^*) = \\mathbf{0}$, this means that $f(x^*) + \\mu^\\top \\mathbf{h}(x^*) = f(x^*) + 0 = f(x^*)$. This means that no matter the value of $\\mu$, the optimal value is not changed, and thus $mu$ can take on any real value. \n",
    "Similarly, at the optimal point, we have $\\mathbf{g}(x^*) \\leq \\mathbf{0}$. The new objective value at the optimal point is thus $f(x^*) + \\mu^\\top \\mathbf{h}(x^*) + \\lambda^\\top \\mathbf{g}(x^*) = f(x^*) + 0 + \\lambda^\\top \\mathbf{g}(x^*)$. Since $\\mathbf{g}(x^*) \\leq \\mathbf{0}$, the only way $\\tilde{f}(x^*) \\leq f(x^*)$ is by forcing $\\lambda \\geq 0$.\n",
    "\n",
    "To see it differently, if $\\lambda \\leq 0$, we will have $f(x^*) + \\lambda^\\top \\mathbf{g}(x^*) \\geq f(x^*)$. Solving the new problem will thus result in an optimal value larger than the original optimal value, and thus failing to get the optimal value.\n",
    "\n",
    "To show this, consider the following optimization problem:\n",
    "\n",
    "\\begin{equation}\n",
    "\\begin{aligned}\n",
    "& \\underset{x}\\min & & x(x-1)(x+2)^2 \\\\\n",
    "& \\text{s.t.} & & 0.25(x-1)^2 - 2 \\leq 0\n",
    "\\end{aligned}\n",
    "\\end{equation}\n",
    "\n",
    "This can be seen as follows."
   ]
  },
  {
   "cell_type": "markdown",
   "metadata": {},
   "source": [
    "# Problem 4 - Necessary but not sufficient conditions\n"
   ]
  },
  {
   "cell_type": "markdown",
   "metadata": {},
   "source": [
    "Consider the following optimization problem:\n",
    "\n",
    "\\begin{equation}\n",
    "\\begin{aligned}\n",
    "& \\underset{x} \\min & & x_1 - x_2 \\\\\n",
    "& \\text{s.t.} & & x_1 x_2 + 4 = 0\n",
    "\\end{aligned}\n",
    "\\end{equation}\n",
    "\n",
    "Consider also the 2 points $a = [-2, 2]^\\top$ and $b = [2, -2]^\\top$. The Lagrangian is given by:\n",
    "\n",
    "$$\\mathcal{L}(x; \\mu) = x_1 - x_2 + \\mu (x_1 x_2 + 4)$$\n",
    "\n",
    "The first order optimality conditions are:\n",
    "$$\\nabla_x \\mathcal{L} = \\begin{pmatrix} 1 + \\mu x_2 \\\\ -1 + \\mu x_1\n",
    "\\end{pmatrix} = 0$$\n",
    "\n",
    "$$\\nabla_\\mu \\mathcal{L} = x_1 x_2 + 4 = 0$$\n",
    "\n",
    "For point $a = [-2, 2]^\\top$ , we have:\n",
    "\n",
    "$$\\nabla_x \\mathcal{L}(a; \\mu) = \\begin{pmatrix} 1 + 2\\mu \\\\ -1 - 2\\mu\\end{pmatrix} = 0$$\n",
    "\n",
    "giving $\\mu = -\\frac{1}{2}$.\n",
    "\n",
    "$$\\nabla_\\mu \\mathcal{L}(a; \\mu) = -2 \\times 2 + 4 = 0$$\n",
    "\n",
    "Similarly, for point $b = [2, -2]^\\top$ , we have:\n",
    "\n",
    "$$\\nabla_x \\mathcal{L}(b; \\mu) = \\begin{pmatrix} 1 - 2\\mu \\\\ -1 + 2\\mu\\end{pmatrix} = 0$$\n",
    "\n",
    "giving $\\mu = \\frac{1}{2}$.\n",
    "\n",
    "$$\\nabla_\\mu \\mathcal{L} (b; \\mu) = 2 \\times (-2) + 4 = 0$$\n",
    "\n",
    "This shows both $a$ and $b$ satisfy the first order optimality conditions. However neither point is a solution. To see this, let $x_1 = \\frac{-4}{x_2}$. By letting $x_2 \\rightarrow 0^+$, we will have $x_1 \\rightarrow - \\infty$. This means the objective function will tend to $-\\infty$, and the problem is unbounded, admitting no real optimal point.\n",
    "\n",
    "This shows that the first order optimality conditions are necessary for a point to be a feasible solution, however, they are not sufficient so the points that satisfy them be optimal."
   ]
  },
  {
   "cell_type": "markdown",
   "metadata": {},
   "source": [
    "# Problem 5 - Healthy Snack"
   ]
  },
  {
   "cell_type": "markdown",
   "metadata": {},
   "source": [
    "A health conscious buyer needs at least $6$ ounces of chocolate, $10$ ounces of sugar and $8$ ounces of cream cheese. We have 2 products: Brownies ($x_1$) and Cheesecakes ($x_2$), costing $50$ and $80$ cents respectively. The following table shows the contents of each product along with the cost:\n",
    "\n",
    "\\begin{array}{|l|c|c|c|c|}\n",
    "\\hline & Chocolate & Sugar  & Cream \\; Cheese & Cost \\\\ \n",
    "\\hline Brownie \\; (x_1)& 3 & 2 & 2 & 50 \\\\ \\hline\n",
    "Cheesecake \\; (x_2) & 0 & 4 & 5 & 80 \\\\ \\hline\n",
    "\\end{array}\n",
    "\n",
    "We can formulate the following optimization problem:\n",
    "\n",
    "\\begin{equation}\n",
    "\\begin{aligned}\n",
    "& \\underset{x} \\min & & 50x_1 + 80 x_2 \\\\ \n",
    "& \\text{s.t.} & & 3x_1 \\geq 6 \\\\\n",
    "& & & 2x_1 + 4x_2 \\geq 10 \\\\ \n",
    "& & & 2x_1 + 5x_2 \\geq 8\n",
    "\\end{aligned}\n",
    "\\end{equation}\n",
    "\n",
    "Let $c = \\begin{pmatrix} 50 \\\\ 80 \\end{pmatrix}$, $\\begin{pmatrix} x_1 \\\\ x_2 \\end{pmatrix} \\in \\mathbb{R}^+$, $A = \\begin{pmatrix} -3 & 0 \\\\ -2 & -4 \\\\ -2 & -5 \\end{pmatrix}$ and $b = \\begin{pmatrix} -6 \\\\ -10 \\\\ -8 \\end{pmatrix}$.\n",
    "\n",
    "We can then reformulate the problem as follows (form required by $\\textbf{ linprog}$):\n",
    "\n",
    "\\begin{equation}\n",
    "\\begin{aligned}\n",
    "& \\underset{x} \\min & & c^\\top x \\\\ \n",
    "& \\text{s.t.} & & Ax \\leq b\n",
    "\\end{aligned}\n",
    "\\end{equation}"
   ]
  },
  {
   "cell_type": "code",
   "execution_count": 9,
   "metadata": {
    "collapsed": true
   },
   "outputs": [],
   "source": [
    "from scipy.optimize import linprog"
   ]
  },
  {
   "cell_type": "code",
   "execution_count": 10,
   "metadata": {
    "collapsed": true
   },
   "outputs": [],
   "source": [
    "A = np.array([[-3, 0], [-2, -4], [-2, -5]])\n",
    "b = np.array([-6, -10, -8])\n",
    "c = np.array([50, 80])"
   ]
  },
  {
   "cell_type": "code",
   "execution_count": 11,
   "metadata": {},
   "outputs": [
    {
     "name": "stdout",
     "output_type": "stream",
     "text": [
      "     con: array([], dtype=float64)\n",
      "     fun: 220.0\n",
      " message: 'Optimization terminated successfully.'\n",
      "     nit: 2\n",
      "   slack: array([0. , 0. , 3.5])\n",
      "  status: 0\n",
      " success: True\n",
      "       x: array([2. , 1.5])\n"
     ]
    }
   ],
   "source": [
    "sol = linprog(c, A_ub = A, b_ub = b)\n",
    "print(sol)"
   ]
  },
  {
   "cell_type": "markdown",
   "metadata": {},
   "source": [
    "The optimal value is $220$ cents when buying $2$ brownies and $1.5$ cheesecake."
   ]
  },
  {
   "cell_type": "markdown",
   "metadata": {},
   "source": [
    "We can write the Lagrangian as: \n",
    "\n",
    "\\begin{align}\n",
    "\\mathcal{L}(\\mathbf{x}, \\lambda)&  = f(\\mathbf{x}) + \\lambda^\\top \\mathbf{g}(\\mathbf{x}) \\\\\n",
    "& = \\mathbf{c}^\\top \\mathbf{x} + \\lambda^\\top (A \\mathbf{x} - \\mathbf{b}) \\\\ \n",
    "& = 50x_1 + 80x_2 + \\lambda_1 (-3x_1 + 6) + \\lambda_2 (-2x_1 -4x_2 + 10) + \\lambda_3 (-2x_1 -5x_2 + 8)\n",
    "\\end{align} \n",
    "\n",
    "The optimality conditions are:\n",
    "\n",
    "\\begin{align}\n",
    "\\nabla_{\\mathbf{x}} \\mathcal{L}(\\mathbf{x}, \\lambda) & = \\nabla_{\\mathbf{x}}f(\\mathbf{x}) + \\lambda^\\top \\nabla_{\\mathbf{x}} \\mathbf{g}(\\mathbf{x}) \\\\ \n",
    "& = \\begin{pmatrix} 50 \\\\ 80 \\end{pmatrix} + \\lambda_1 \\begin{pmatrix}-3 \\\\ 0 \\end{pmatrix} + \\lambda_2 \\begin{pmatrix}-2 \\\\ -4 \\end{pmatrix} + \\lambda_3 \\begin{pmatrix}-2 \\\\ -5 \\end{pmatrix} \\\\\n",
    "& = \\begin{pmatrix}50 - 3\\lambda_1 - 2\\lambda_2 - 2\\lambda_3 \\\\ 80 - 4\\lambda_2 - 5\\lambda_3\\end{pmatrix} = \\mathbf{0} \\\\ \\\\\n",
    "\\lambda \\circ (A\\mathbf{x} - \\mathbf{b})& = \\begin{pmatrix} \\lambda_1 (-3x_1 + 6) \\\\ \\lambda_2 (-2x_1 -4x_2 + 10) \\\\ \\lambda_3 (-2x_1 -5x_2 + 8) \\end{pmatrix} \\\\ & = \\begin{pmatrix} \\lambda_1 \\cdot 0 \\\\ \\lambda_2 \\cdot 0 \\\\ \\lambda_3 \\cdot -3.5 \\end{pmatrix} = \\mathbf{0} & \\text{(complementary slackness)}\n",
    "\\end{align}\n",
    "\n",
    "This gives us $\\lambda_3 = 0$, and the system: $\\begin{cases}3\\lambda_1 & + & 2\\lambda_2 & = 50 \\\\ & & 4\\lambda_2 & = 80 \\end{cases}$ which yields $\\lambda_1 = \\frac{10}{3}$ and $\\lambda_2 = 20$.\n",
    "\n",
    "This means that the $2^{nd}$ constraint (corresponding to sugar quantity) is the one affecting the price the most, and changing its value will affect the price the most. The $1^{st}$ constraint has some effect but much smaller than the $2^{nd}$, and the last constraint has practically no effect, since satisfying the above 2 constraints will make it satisfied automatically, and thus changing the requirement of cream cheese a bit won't affect the total price.\n",
    "\n",
    "The optimization problem in canonical form is:\n",
    "\n",
    "\\begin{equation}\n",
    "\\begin{aligned}\n",
    "& \\underset{x} \\min & & 50x_1 + 80 x_2 \\\\ \n",
    "& \\text{s.t.} & & 3x_1 - 6 \\geq 0 \\\\\n",
    "& & & 2x_1 + 4x_2 - 10\\geq 0 \\\\ \n",
    "& & & 2x_1 + 5x_2 - 8 \\geq 0\n",
    "\\end{aligned}\n",
    "\\end{equation}\n",
    "\n"
   ]
  }
 ],
 "metadata": {
  "kernelspec": {
   "display_name": "Python 3",
   "language": "python",
   "name": "python3"
  },
  "language_info": {
   "codemirror_mode": {
    "name": "ipython",
    "version": 3
   },
   "file_extension": ".py",
   "mimetype": "text/x-python",
   "name": "python",
   "nbconvert_exporter": "python",
   "pygments_lexer": "ipython3",
   "version": "3.6.3"
  },
  "latex_envs": {
   "LaTeX_envs_menu_present": true,
   "autoclose": false,
   "autocomplete": true,
   "bibliofile": "biblio.bib",
   "cite_by": "apalike",
   "current_citInitial": 1,
   "eqLabelWithNumbers": true,
   "eqNumInitial": 1,
   "hotkeys": {
    "equation": "Ctrl-E",
    "itemize": "Ctrl-I"
   },
   "labels_anchors": false,
   "latex_user_defs": false,
   "report_style_numbering": false,
   "user_envs_cfg": false
  },
  "varInspector": {
   "cols": {
    "lenName": 16,
    "lenType": 16,
    "lenVar": 40
   },
   "kernels_config": {
    "python": {
     "delete_cmd_postfix": "",
     "delete_cmd_prefix": "del ",
     "library": "var_list.py",
     "varRefreshCmd": "print(var_dic_list())"
    },
    "r": {
     "delete_cmd_postfix": ") ",
     "delete_cmd_prefix": "rm(",
     "library": "var_list.r",
     "varRefreshCmd": "cat(var_dic_list()) "
    }
   },
   "types_to_exclude": [
    "module",
    "function",
    "builtin_function_or_method",
    "instance",
    "_Feature"
   ],
   "window_display": false
  }
 },
 "nbformat": 4,
 "nbformat_minor": 2
}
