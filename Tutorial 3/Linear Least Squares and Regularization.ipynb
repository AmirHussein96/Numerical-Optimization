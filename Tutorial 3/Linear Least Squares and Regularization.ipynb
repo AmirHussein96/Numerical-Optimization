{
 "cells": [
  {
   "cell_type": "code",
   "execution_count": 1,
   "metadata": {
    "collapsed": true
   },
   "outputs": [],
   "source": [
    "import numpy as np\n",
    "from numpy import linalg as la\n",
    "from os import sys\n",
    "import matplotlib.pyplot as plt\n",
    "import matplotlib.image as mpimg\n",
    "import autograd\n",
    "from math import *\n",
    "%matplotlib inline"
   ]
  },
  {
   "cell_type": "markdown",
   "metadata": {},
   "source": [
    "### Cross-well Tomography.\n",
    "Inverse problems are problems where we seek to measure the parameters\n",
    "of a physical system from measurements of its response to one or more inputs. This is in contrast to\n",
    "forward problems where, given a physical system, we seek to determine its response to a given input.\n",
    "Consider, as an example, the following cross-well tomography problem used in petroleum exploration.\n",
    "Two vertical wells are located 1600m apart. A seismic source is inserted in one of the wells at depths of\n",
    "50; 150; 1550 m. A string of receivers is inserted in the other well at depths of 50; 150; 1550m as\n",
    "shown in the gure below. For each source-receiver pair a travel time is recorded (such measurements,\n",
    "while accurate, have an error on the order of 0:5 ms). There are 256 ray paths and 256 corresponding\n",
    "measurements. We wish to determine the velocity structure in the two-dimensional plane between the\n",
    "two wells."
   ]
  },
  {
   "cell_type": "code",
   "execution_count": 2,
   "metadata": {},
   "outputs": [
    {
     "name": "stdout",
     "output_type": "stream",
     "text": [
      "The condition number of G is 1.027499756939212e+19.\n"
     ]
    }
   ],
   "source": [
    "d=np.load('d.npy')\n",
    "G=np.load('G.npy')\n",
    "print(\"The condition number of G is {}.\".format(la.cond(G)))"
   ]
  },
  {
   "cell_type": "markdown",
   "metadata": {},
   "source": [
    "We can't solve the system $\\mathbf{G} \\mathbf{x} = \\mathbf{d}$ since we lose $\\log_{10} \\kappa = \\log_{10} 1.02\\times10^{19} \\approx 19$ digits in accuracy."
   ]
  },
  {
   "cell_type": "code",
   "execution_count": 5,
   "metadata": {
    "collapsed": true
   },
   "outputs": [],
   "source": [
    "eig=la.eig(G)"
   ]
  },
  {
   "cell_type": "code",
   "execution_count": 4,
   "metadata": {},
   "outputs": [
    {
     "data": {
      "text/plain": [
       "False"
      ]
     },
     "execution_count": 4,
     "metadata": {},
     "output_type": "execute_result"
    }
   ],
   "source": [
    "#check if the matrix is positive definite\n",
    "def is_pos_def(x):\n",
    "    return np.all(np.linalg.eigvals(x) > 0)\n",
    "is_pos_def(G)"
   ]
  },
  {
   "cell_type": "code",
   "execution_count": 6,
   "metadata": {},
   "outputs": [
    {
     "data": {
      "text/plain": [
       "1937.1811102386976"
      ]
     },
     "execution_count": 6,
     "metadata": {},
     "output_type": "execute_result"
    }
   ],
   "source": [
    "np.abs(np.max(eig[0])-np.min(eig[0]))\n",
    "#not sure what does it mean to have complex eigen values"
   ]
  },
  {
   "cell_type": "code",
   "execution_count": 7,
   "metadata": {},
   "outputs": [
    {
     "data": {
      "text/plain": [
       "0.0"
      ]
     },
     "execution_count": 7,
     "metadata": {},
     "output_type": "execute_result"
    }
   ],
   "source": [
    "#we can also check the determinant of the matrix\n",
    "la.det(G)"
   ]
  },
  {
   "cell_type": "code",
   "execution_count": 8,
   "metadata": {},
   "outputs": [
    {
     "name": "stdout",
     "output_type": "stream",
     "text": [
      "Ill-conditioned Matrix\n"
     ]
    }
   ],
   "source": [
    "if la.cond(G) < 1/sys.float_info.epsilon:\n",
    "    i = la.inv(G)\n",
    "else:\n",
    "    print('Ill-conditioned Matrix')"
   ]
  },
  {
   "cell_type": "markdown",
   "metadata": {},
   "source": [
    "## Formulating as Linear Least Squares"
   ]
  },
  {
   "cell_type": "markdown",
   "metadata": {},
   "source": [
    "We use the mean squared error: $E(x) = \\Vert Gx - d \\Vert^2 = (Gx-d)^\\top (Gx-d)$. The optimization problem at hand is:\n",
    "\n",
    "\\begin{equation}\n",
    "\\begin{aligned}\n",
    "\\min_x & & (Gx-d)^\\top (Gx-d) \\\\\n",
    "\\end{aligned}\n",
    "\\end{equation}\n",
    "\n",
    "We compute the gradient and find that $\\nabla E(x) = 2 G^\\top (Gx-d)$. Setting the gradient to 0, we obtain the following system that needs to be solved to obtain $x^*$.\n",
    "$$G^\\top G x^* = G^\\top d$$"
   ]
  },
  {
   "cell_type": "code",
   "execution_count": 5,
   "metadata": {},
   "outputs": [
    {
     "ename": "LinAlgError",
     "evalue": "Singular matrix",
     "output_type": "error",
     "traceback": [
      "\u001b[1;31m---------------------------------------------------------------------------\u001b[0m",
      "\u001b[1;31mLinAlgError\u001b[0m                               Traceback (most recent call last)",
      "\u001b[1;32m<ipython-input-5-4abc388612e7>\u001b[0m in \u001b[0;36m<module>\u001b[1;34m()\u001b[0m\n\u001b[0;32m      8\u001b[0m \u001b[1;33m\u001b[0m\u001b[0m\n\u001b[0;32m      9\u001b[0m     \u001b[1;32mreturn\u001b[0m \u001b[0mx_opt\u001b[0m\u001b[1;33m\u001b[0m\u001b[0m\n\u001b[1;32m---> 10\u001b[1;33m \u001b[0mx_opt\u001b[0m \u001b[1;33m=\u001b[0m \u001b[0msolve_cw\u001b[0m\u001b[1;33m(\u001b[0m\u001b[0mG\u001b[0m\u001b[1;33m,\u001b[0m \u001b[0md\u001b[0m\u001b[1;33m)\u001b[0m\u001b[1;33m\u001b[0m\u001b[0m\n\u001b[0m\u001b[0;32m     11\u001b[0m \u001b[0mprint\u001b[0m\u001b[1;33m(\u001b[0m\u001b[1;34m\"Mean Squared Error: {}.\"\u001b[0m\u001b[1;33m.\u001b[0m\u001b[0mformat\u001b[0m\u001b[1;33m(\u001b[0m\u001b[0mla\u001b[0m\u001b[1;33m.\u001b[0m\u001b[0mnorm\u001b[0m\u001b[1;33m(\u001b[0m\u001b[0mG\u001b[0m\u001b[1;33m.\u001b[0m\u001b[0mdot\u001b[0m\u001b[1;33m(\u001b[0m\u001b[0mx_opt\u001b[0m\u001b[1;33m)\u001b[0m \u001b[1;33m-\u001b[0m \u001b[0md\u001b[0m\u001b[1;33m)\u001b[0m\u001b[1;33m)\u001b[0m\u001b[1;33m)\u001b[0m\u001b[1;33m\u001b[0m\u001b[0m\n\u001b[0;32m     12\u001b[0m \u001b[1;31m#x=la.inv(np.transpose(G)@G)@np.transpose(G)@d\u001b[0m\u001b[1;33m\u001b[0m\u001b[1;33m\u001b[0m\u001b[0m\n",
      "\u001b[1;32m<ipython-input-5-4abc388612e7>\u001b[0m in \u001b[0;36msolve_cw\u001b[1;34m(G, d, alpha)\u001b[0m\n\u001b[0;32m      5\u001b[0m     \u001b[0mGtG\u001b[0m \u001b[1;33m=\u001b[0m \u001b[0mnp\u001b[0m\u001b[1;33m.\u001b[0m\u001b[0mmatmul\u001b[0m\u001b[1;33m(\u001b[0m\u001b[0mG\u001b[0m\u001b[1;33m.\u001b[0m\u001b[0mT\u001b[0m\u001b[1;33m,\u001b[0m \u001b[0mG\u001b[0m\u001b[1;33m)\u001b[0m \u001b[1;33m+\u001b[0m \u001b[0malpha\u001b[0m \u001b[1;33m*\u001b[0m \u001b[0mnp\u001b[0m\u001b[1;33m.\u001b[0m\u001b[0meye\u001b[0m\u001b[1;33m(\u001b[0m\u001b[0mG\u001b[0m\u001b[1;33m.\u001b[0m\u001b[0mshape\u001b[0m\u001b[1;33m[\u001b[0m\u001b[1;36m0\u001b[0m\u001b[1;33m]\u001b[0m\u001b[1;33m)\u001b[0m\u001b[1;33m\u001b[0m\u001b[0m\n\u001b[0;32m      6\u001b[0m     \u001b[0mGtd\u001b[0m \u001b[1;33m=\u001b[0m \u001b[0mnp\u001b[0m\u001b[1;33m.\u001b[0m\u001b[0mmatmul\u001b[0m\u001b[1;33m(\u001b[0m\u001b[0mG\u001b[0m\u001b[1;33m.\u001b[0m\u001b[0mT\u001b[0m\u001b[1;33m,\u001b[0m \u001b[0md\u001b[0m\u001b[1;33m)\u001b[0m\u001b[1;33m\u001b[0m\u001b[0m\n\u001b[1;32m----> 7\u001b[1;33m     \u001b[0mx_opt\u001b[0m \u001b[1;33m=\u001b[0m \u001b[0mla\u001b[0m\u001b[1;33m.\u001b[0m\u001b[0msolve\u001b[0m\u001b[1;33m(\u001b[0m\u001b[0mGtG\u001b[0m\u001b[1;33m,\u001b[0m \u001b[0mGtd\u001b[0m\u001b[1;33m)\u001b[0m\u001b[1;33m\u001b[0m\u001b[0m\n\u001b[0m\u001b[0;32m      8\u001b[0m \u001b[1;33m\u001b[0m\u001b[0m\n\u001b[0;32m      9\u001b[0m     \u001b[1;32mreturn\u001b[0m \u001b[0mx_opt\u001b[0m\u001b[1;33m\u001b[0m\u001b[0m\n",
      "\u001b[1;32m~\\Anaconda3\\envs\\machine_learning\\lib\\site-packages\\numpy\\linalg\\linalg.py\u001b[0m in \u001b[0;36msolve\u001b[1;34m(a, b)\u001b[0m\n\u001b[0;32m    401\u001b[0m     \u001b[0msignature\u001b[0m \u001b[1;33m=\u001b[0m \u001b[1;34m'DD->D'\u001b[0m \u001b[1;32mif\u001b[0m \u001b[0misComplexType\u001b[0m\u001b[1;33m(\u001b[0m\u001b[0mt\u001b[0m\u001b[1;33m)\u001b[0m \u001b[1;32melse\u001b[0m \u001b[1;34m'dd->d'\u001b[0m\u001b[1;33m\u001b[0m\u001b[0m\n\u001b[0;32m    402\u001b[0m     \u001b[0mextobj\u001b[0m \u001b[1;33m=\u001b[0m \u001b[0mget_linalg_error_extobj\u001b[0m\u001b[1;33m(\u001b[0m\u001b[0m_raise_linalgerror_singular\u001b[0m\u001b[1;33m)\u001b[0m\u001b[1;33m\u001b[0m\u001b[0m\n\u001b[1;32m--> 403\u001b[1;33m     \u001b[0mr\u001b[0m \u001b[1;33m=\u001b[0m \u001b[0mgufunc\u001b[0m\u001b[1;33m(\u001b[0m\u001b[0ma\u001b[0m\u001b[1;33m,\u001b[0m \u001b[0mb\u001b[0m\u001b[1;33m,\u001b[0m \u001b[0msignature\u001b[0m\u001b[1;33m=\u001b[0m\u001b[0msignature\u001b[0m\u001b[1;33m,\u001b[0m \u001b[0mextobj\u001b[0m\u001b[1;33m=\u001b[0m\u001b[0mextobj\u001b[0m\u001b[1;33m)\u001b[0m\u001b[1;33m\u001b[0m\u001b[0m\n\u001b[0m\u001b[0;32m    404\u001b[0m \u001b[1;33m\u001b[0m\u001b[0m\n\u001b[0;32m    405\u001b[0m     \u001b[1;32mreturn\u001b[0m \u001b[0mwrap\u001b[0m\u001b[1;33m(\u001b[0m\u001b[0mr\u001b[0m\u001b[1;33m.\u001b[0m\u001b[0mastype\u001b[0m\u001b[1;33m(\u001b[0m\u001b[0mresult_t\u001b[0m\u001b[1;33m,\u001b[0m \u001b[0mcopy\u001b[0m\u001b[1;33m=\u001b[0m\u001b[1;32mFalse\u001b[0m\u001b[1;33m)\u001b[0m\u001b[1;33m)\u001b[0m\u001b[1;33m\u001b[0m\u001b[0m\n",
      "\u001b[1;32m~\\Anaconda3\\envs\\machine_learning\\lib\\site-packages\\numpy\\linalg\\linalg.py\u001b[0m in \u001b[0;36m_raise_linalgerror_singular\u001b[1;34m(err, flag)\u001b[0m\n\u001b[0;32m     95\u001b[0m \u001b[1;33m\u001b[0m\u001b[0m\n\u001b[0;32m     96\u001b[0m \u001b[1;32mdef\u001b[0m \u001b[0m_raise_linalgerror_singular\u001b[0m\u001b[1;33m(\u001b[0m\u001b[0merr\u001b[0m\u001b[1;33m,\u001b[0m \u001b[0mflag\u001b[0m\u001b[1;33m)\u001b[0m\u001b[1;33m:\u001b[0m\u001b[1;33m\u001b[0m\u001b[0m\n\u001b[1;32m---> 97\u001b[1;33m     \u001b[1;32mraise\u001b[0m \u001b[0mLinAlgError\u001b[0m\u001b[1;33m(\u001b[0m\u001b[1;34m\"Singular matrix\"\u001b[0m\u001b[1;33m)\u001b[0m\u001b[1;33m\u001b[0m\u001b[0m\n\u001b[0m\u001b[0;32m     98\u001b[0m \u001b[1;33m\u001b[0m\u001b[0m\n\u001b[0;32m     99\u001b[0m \u001b[1;32mdef\u001b[0m \u001b[0m_raise_linalgerror_nonposdef\u001b[0m\u001b[1;33m(\u001b[0m\u001b[0merr\u001b[0m\u001b[1;33m,\u001b[0m \u001b[0mflag\u001b[0m\u001b[1;33m)\u001b[0m\u001b[1;33m:\u001b[0m\u001b[1;33m\u001b[0m\u001b[0m\n",
      "\u001b[1;31mLinAlgError\u001b[0m: Singular matrix"
     ]
    }
   ],
   "source": [
    "#Least Squares formulation x=((AA')^-1)A'y\n",
    "def solve_cw(G, d, alpha = 0):\n",
    "    # setting alpha to 0 gives us linear least squares as usual\n",
    "    \n",
    "    GtG = np.matmul(G.T, G) + alpha * np.eye(G.shape[0])\n",
    "    Gtd = np.matmul(G.T, d)\n",
    "    x_opt = la.solve(GtG, Gtd)\n",
    "    \n",
    "    return x_opt\n",
    "x_opt = solve_cw(G, d)\n",
    "print(\"Mean Squared Error: {}.\".format(la.norm(G.dot(x_opt) - d)))\n",
    "#x=la.inv(np.transpose(G)@G)@np.transpose(G)@d"
   ]
  },
  {
   "cell_type": "markdown",
   "metadata": {},
   "source": [
    "## Formulating as Regularized Linear Least Squares"
   ]
  },
  {
   "cell_type": "markdown",
   "metadata": {},
   "source": [
    "We now formulate the problem as regularized linear least squares:\n",
    "\n",
    "\\begin{equation}\n",
    "\\begin{aligned}\n",
    "&\\min_x & (Gx-d)^\\top (Gx-d) + \\alpha \\cdot x^\\top x\\\\\n",
    "& \\text{s.t.} & 10^{-6} \\leq \\alpha \\leq 10^6\n",
    "\\end{aligned}\n",
    "\\end{equation}\n",
    "\n",
    "The new gradient $\\nabla E'(x) = 2\\, \\left( G^\\top (Gx-d) + \\alpha \\cdot x \\right) = 2\\, \\left[ \\left(G^\\top G + \\alpha \\cdot I \\right) x - G^\\top d \\right]$. By setting to 0, we get that the system that needs to be solved is:\n",
    "\n",
    "$$(G^\\top G + \\alpha \\cdot I) \\, x = G^\\top d$$"
   ]
  },
  {
   "cell_type": "code",
   "execution_count": 8,
   "metadata": {},
   "outputs": [
    {
     "data": {
      "text/plain": [
       "<matplotlib.colorbar.Colorbar at 0x266b07484e0>"
      ]
     },
     "execution_count": 8,
     "metadata": {},
     "output_type": "execute_result"
    },
    {
     "data": {
      "image/png": "[encoded data removed]",
      "text/plain": [
       "<matplotlib.figure.Figure at 0x266b0a5d080>"
      ]
     },
     "metadata": {},
     "output_type": "display_data"
    }
   ],
   "source": [
    "#tikhonov regularization\n",
    "#as we increase alpha we shift the matrix from region where it is illconfitioned\n",
    "#as the alpha gets very large the problem is changed and the input dominates over the actual problem.\n",
    "#how to chose the best depends on the domain knowledge to chose what is reasonable.\n",
    "plt.rcParams[\"figure.figsize\"] = \"10,9\"\n",
    "fig = plt.figure()\n",
    "alphas = np.logspace(-6, 6, 13)\n",
    "for i in range(len(alphas)):\n",
    "    x1=la.inv(np.transpose(G)@G+np.diag(np.ones(len(G)))*alphas[i])\n",
    "    x=x1@np.transpose(G)@d\n",
    "    a=fig.add_subplot(3,5,i+1)\n",
    "    a.set_title(r'$ \\alpha $='+str(alphas[i]))\n",
    "    x=x.reshape(16,16)\n",
    "    im=plt.imshow(x,cmap='jet')\n",
    "fig.subplots_adjust(right=0.8)\n",
    "cbar_ax = fig.add_axes([0.85, 0.15, 0.03, 0.7])\n",
    "fig.colorbar(im, cax=cbar_ax)\n",
    "\n"
   ]
  },
  {
   "cell_type": "markdown",
   "metadata": {},
   "source": [
    "The best value of alpha is to be determined by field experts by inspecting the tomography. The reasonable graphs correspond to $0.1 \\leq \\alpha \\leq 10$ since they don't contain much noise, yet they somehow reflect some properties of the underground."
   ]
  },
  {
   "cell_type": "markdown",
   "metadata": {},
   "source": [
    "## Using Singular Value Decomposition\n"
   ]
  },
  {
   "cell_type": "markdown",
   "metadata": {},
   "source": [
    "We first find the SVD decompostion of $G$, i.e. $G = U S V^\\top$"
   ]
  },
  {
   "cell_type": "code",
   "execution_count": 11,
   "metadata": {},
   "outputs": [
    {
     "data": {
      "image/png": "[encoded data removed]",
      "text/plain": [
       "<matplotlib.figure.Figure at 0x1d6ecb09390>"
      ]
     },
     "metadata": {},
     "output_type": "display_data"
    }
   ],
   "source": [
    "# svd decomposition and truncate the small singular values\n",
    "plt.rcParams[\"figure.figsize\"] = \"3,3\"\n",
    "h = la.pinv(G,rcond=5*1e-3) # \n",
    "x=h@d\n",
    "x=x.reshape(16,16)\n",
    "im=plt.imshow(x,cmap='jet')"
   ]
  },
  {
   "cell_type": "code",
   "execution_count": 9,
   "metadata": {
    "collapsed": true
   },
   "outputs": [],
   "source": [
    "U, S, V = la.svd(G)"
   ]
  },
  {
   "cell_type": "code",
   "execution_count": 17,
   "metadata": {},
   "outputs": [
    {
     "name": "stdout",
     "output_type": "stream",
     "text": [
      "Error using SVD truncation 13.110882273863458\n"
     ]
    }
   ],
   "source": [
    "x_opt = 0\n",
    "for i in range(len(S[:-20])):\n",
    "    x_opt += U[i].dot(d) / S[i] * V[i]\n",
    "print('Error using SVD truncation',la.norm(G.dot(x_opt) - d))"
   ]
  },
  {
   "cell_type": "markdown",
   "metadata": {},
   "source": [
    "# Problem 2 - System of Non-Linear Equations"
   ]
  },
  {
   "cell_type": "markdown",
   "metadata": {},
   "source": [
    "Consider the system of non linear equations:\n",
    "\n",
    "\\begin{equation}\n",
    "\\begin{cases}\n",
    "\\frac{2x_1 + x_2}{\\left( 1 + (2x_1 + x_2)^2\\right)^{1/2}} = 0 \\\\\n",
    "\\frac{2x_1 - x_2}{\\left( 1 + (2x_1 - x_2)^2\\right)^{1/2}} = 0\n",
    "\\end{cases}\n",
    "\\end{equation}\n",
    "\n",
    "Let $\\mathbf{f}: \\mathbb{R}^2 \\rightarrow \\mathbb{R}^2$ be defined as:\n",
    "$$\\mathbf{f}(\\mathbf{x}) = \\begin{pmatrix} f_1(\\mathbf{x}) \\\\ f_2(\\mathbf{x}) \\end{pmatrix} = \\begin{pmatrix} \\frac{2x_1 + x_2}{\\left( 1 + (2x_1 + x_2)^2\\right)^{1/2}} \\\\ \\frac{2x_1 - x_2}{\\left( 1 + (2x_1 - x_2)^2\\right)^{1/2}} \\end{pmatrix}$$\n",
    "\n",
    "where $\\mathbf{x} = \\begin{pmatrix} x_1 \\\\ x_2 \\end{pmatrix} \\in \\mathbb{R}^2$. We can then solve the equation $\\mathbf{f}(\\mathbf{x}) = \\mathbf{0}$ to get the solution $\\mathbf{x}^*$."
   ]
  },
  {
   "cell_type": "code",
   "execution_count": 19,
   "metadata": {
    "collapsed": true,
    "scrolled": true
   },
   "outputs": [],
   "source": [
    "import sympy as sp\n",
    "# symbic function and its jacobian\n",
    "x1 = sp.Symbol('x1')\n",
    "x2 = sp.Symbol('x2')\n",
    "x = np.array([x1, x2])\n",
    "f_symb1=(2*x[0]+x[1])/(1+(2*x[0]+x[1])**2)**.5\n",
    "f_symb2=(2*x[0]-x[1])/(1+(2*x[0]+x[1])**2)**.5\n",
    "\n",
    "F = sp.Matrix([f_symb1,f_symb2])\n",
    "J=F.jacobian(x)\n",
    "F_true=sp.lambdify([x], F, 'numpy')\n",
    "J_true=sp.lambdify([x], J, 'numpy')"
   ]
  },
  {
   "cell_type": "code",
   "execution_count": 13,
   "metadata": {
    "collapsed": true
   },
   "outputs": [],
   "source": [
    "# the jacobian is singular matrix\n",
    "#implementation of a basic Newton's Method\n",
    "a=np.array([0.3,0.3])\n",
    "history=a\n",
    "while(la.norm(F_true(a)) > 1e-6):\n",
    "    inv=la.pinv(np.transpose(J_true(a))@J_true(a),rcond=1e-20)\n",
    "    d_x=-inv@np.transpose(J_true(a))@F_true(a)\n",
    "    a=a+d_x.reshape(-1)\n",
    "    history = np.vstack( (history, a) )"
   ]
  },
  {
   "cell_type": "code",
   "execution_count": 14,
   "metadata": {},
   "outputs": [
    {
     "data": {
      "image/png": "[encoded data removed]",
      "text/plain": [
       "<matplotlib.figure.Figure at 0x1d6eeb21da0>"
      ]
     },
     "metadata": {},
     "output_type": "display_data"
    }
   ],
   "source": [
    "nsteps = history.shape[0]\n",
    "fhist = np.zeros(nsteps)\n",
    "for i in range(nsteps):\n",
    "    fhist[i] = la.norm(F_true(history[i]))\n",
    "plt.figure()\n",
    "\n",
    "plt.semilogy(np.arange(0, nsteps), fhist, linewidth=1)\n",
    "plt.title('Convergence Performance')\n",
    "plt.xlabel('Iteration count')\n",
    "plt.ylabel('r$|f^k - f^*|$')\n",
    "plt.show()"
   ]
  },
  {
   "cell_type": "markdown",
   "metadata": {},
   "source": [
    "#### Part2"
   ]
  },
  {
   "cell_type": "code",
   "execution_count": 22,
   "metadata": {},
   "outputs": [
    {
     "ename": "KeyboardInterrupt",
     "evalue": "",
     "output_type": "error",
     "traceback": [
      "\u001b[1;31m---------------------------------------------------------------------------\u001b[0m",
      "\u001b[1;31mKeyboardInterrupt\u001b[0m                         Traceback (most recent call last)",
      "\u001b[1;32m<ipython-input-22-c1ae312065d2>\u001b[0m in \u001b[0;36m<module>\u001b[1;34m()\u001b[0m\n\u001b[0;32m      9\u001b[0m     \u001b[0md_x\u001b[0m\u001b[1;33m=\u001b[0m\u001b[1;33m-\u001b[0m\u001b[0minv\u001b[0m\u001b[1;33m@\u001b[0m\u001b[0mF_true\u001b[0m\u001b[1;33m(\u001b[0m\u001b[0ma\u001b[0m\u001b[1;33m)\u001b[0m\u001b[1;33m\u001b[0m\u001b[0m\n\u001b[0;32m     10\u001b[0m     \u001b[0ma\u001b[0m\u001b[1;33m=\u001b[0m\u001b[0ma\u001b[0m\u001b[1;33m+\u001b[0m\u001b[0md_x\u001b[0m\u001b[1;33m.\u001b[0m\u001b[0mreshape\u001b[0m\u001b[1;33m(\u001b[0m\u001b[1;33m-\u001b[0m\u001b[1;36m1\u001b[0m\u001b[1;33m)\u001b[0m\u001b[1;33m\u001b[0m\u001b[0m\n\u001b[1;32m---> 11\u001b[1;33m     \u001b[0mhistory\u001b[0m \u001b[1;33m=\u001b[0m \u001b[0mnp\u001b[0m\u001b[1;33m.\u001b[0m\u001b[0mvstack\u001b[0m\u001b[1;33m(\u001b[0m \u001b[1;33m(\u001b[0m\u001b[0mhistory\u001b[0m\u001b[1;33m,\u001b[0m \u001b[0ma\u001b[0m\u001b[1;33m)\u001b[0m \u001b[1;33m)\u001b[0m\u001b[1;33m\u001b[0m\u001b[0m\n\u001b[0m\u001b[0;32m     12\u001b[0m     \u001b[1;31m#from the first values of a it is clear that the algorithm diverging\u001b[0m\u001b[1;33m\u001b[0m\u001b[1;33m\u001b[0m\u001b[0m\n",
      "\u001b[1;32m~\\Anaconda3\\envs\\machine_learning\\lib\\site-packages\\numpy\\core\\shape_base.py\u001b[0m in \u001b[0;36mvstack\u001b[1;34m(tup)\u001b[0m\n\u001b[0;32m    281\u001b[0m     \"\"\"\n\u001b[0;32m    282\u001b[0m     \u001b[0m_warn_for_nonsequence\u001b[0m\u001b[1;33m(\u001b[0m\u001b[0mtup\u001b[0m\u001b[1;33m)\u001b[0m\u001b[1;33m\u001b[0m\u001b[0m\n\u001b[1;32m--> 283\u001b[1;33m     \u001b[1;32mreturn\u001b[0m \u001b[0m_nx\u001b[0m\u001b[1;33m.\u001b[0m\u001b[0mconcatenate\u001b[0m\u001b[1;33m(\u001b[0m\u001b[1;33m[\u001b[0m\u001b[0matleast_2d\u001b[0m\u001b[1;33m(\u001b[0m\u001b[0m_m\u001b[0m\u001b[1;33m)\u001b[0m \u001b[1;32mfor\u001b[0m \u001b[0m_m\u001b[0m \u001b[1;32min\u001b[0m \u001b[0mtup\u001b[0m\u001b[1;33m]\u001b[0m\u001b[1;33m,\u001b[0m \u001b[1;36m0\u001b[0m\u001b[1;33m)\u001b[0m\u001b[1;33m\u001b[0m\u001b[0m\n\u001b[0m\u001b[0;32m    284\u001b[0m \u001b[1;33m\u001b[0m\u001b[0m\n\u001b[0;32m    285\u001b[0m \u001b[1;33m\u001b[0m\u001b[0m\n",
      "\u001b[1;31mKeyboardInterrupt\u001b[0m: "
     ]
    }
   ],
   "source": [
    "a=np.array([0.5,0.5])\n",
    "history=a\n",
    "while(la.norm(F_true(a)) > 1e-6):\n",
    "    inv=la.pinv(J_true(a),rcond=1e-20)\n",
    "   \n",
    "    d_x=-inv@F_true(a)\n",
    "    a=a+d_x.reshape(-1)\n",
    "    history = np.vstack( (history, a) )\n",
    "    #from the first values of a it is clear that the algorithm diverging"
   ]
  },
  {
   "cell_type": "code",
   "execution_count": 289,
   "metadata": {},
   "outputs": [
    {
     "data": {
      "image/png": "[encoded data removed]",
      "text/plain": [
       "<matplotlib.figure.Figure at 0x1b280060ef0>"
      ]
     },
     "metadata": {},
     "output_type": "display_data"
    }
   ],
   "source": [
    "nsteps = history[0:4].shape[0]\n",
    "fhist = np.zeros(nsteps)\n",
    "for i in range(nsteps):\n",
    "    fhist[i] = la.norm(F_true(history[i]))\n",
    "plt.figure()\n",
    "\n",
    "plt.semilogy(np.arange(0, nsteps), fhist, linewidth=1)\n",
    "plt.title('Convergence Performance')\n",
    "plt.xlabel('Iteration count')\n",
    "plt.ylabel('r$|f^k - f^*|$')\n",
    "plt.show()"
   ]
  },
  {
   "cell_type": "markdown",
   "metadata": {},
   "source": [
    "### Part4 globalize newton method using merit function"
   ]
  },
  {
   "cell_type": "code",
   "execution_count": 29,
   "metadata": {
    "collapsed": true
   },
   "outputs": [],
   "source": [
    "def merit_func(f,x):\n",
    "    return .5*np.transpose(f(x))@f(x).reshape(-1)\n",
    "\n",
    "def backtrack_linesearch(F_true,merit_func, gk, pk, xk, alpha = 0.1, beta = 0.8):\n",
    "    t = 1\n",
    "    while ( merit_func(F_true,xk + t*pk) >= merit_func(F_true,xk) + alpha * t * gk @ pk ):\n",
    "        t *= beta\n",
    "    return t"
   ]
  },
  {
   "cell_type": "code",
   "execution_count": 38,
   "metadata": {
    "collapsed": true
   },
   "outputs": [],
   "source": [
    "# a=np.array([0.5,0.5])\n",
    "# history=a\n",
    "# while(la.norm(F_true(a)) > 1e-6):\n",
    "#     inv=la.pinv(J_true(a),rcond=1e-20)\n",
    "#     p=-inv@F_true(a)\n",
    "#     p=p.reshape(-1)\n",
    "#     t = backtrack_linesearch(F_true,merit_func, np.transpose(J_true(a))@F_true(a).reshape(-1), p, a)\n",
    "#     a=a+t*p\n",
    "#     history = np.vstack( (history, a) )\n",
    "a=np.array([0.5,0.5])\n",
    "history=a\n",
    "while(la.norm(F_true(a)) > 1e-6):\n",
    "    inv=la.pinv(np.transpose(J_true(a))@J_true(a),rcond=1e-20)\n",
    "    p=-inv@np.transpose(J_true(a))@F_true(a)\n",
    "    p=p.reshape(-1)\n",
    "    t = backtrack_linesearch(F_true,merit_func,J_true(a)@F_true(a).reshape(-1), p, a)\n",
    "    a=a+t*p\n",
    "    history = np.vstack( (history, a) )"
   ]
  },
  {
   "cell_type": "code",
   "execution_count": 32,
   "metadata": {},
   "outputs": [
    {
     "data": {
      "text/plain": [
       "array([0.51071879])"
      ]
     },
     "execution_count": 32,
     "metadata": {},
     "output_type": "execute_result"
    }
   ],
   "source": []
  },
  {
   "cell_type": "code",
   "execution_count": 36,
   "metadata": {},
   "outputs": [
    {
     "data": {
      "text/plain": [
       "(2, 1)"
      ]
     },
     "execution_count": 36,
     "metadata": {},
     "output_type": "execute_result"
    }
   ],
   "source": [
    "(J_true(a)@F_true(a)).shape"
   ]
  },
  {
   "cell_type": "code",
   "execution_count": 338,
   "metadata": {},
   "outputs": [
    {
     "data": {
      "image/png": "[encoded data removed]",
      "text/plain": [
       "<matplotlib.figure.Figure at 0x1b2802b0080>"
      ]
     },
     "metadata": {},
     "output_type": "display_data"
    }
   ],
   "source": [
    "nsteps = history.shape[0]\n",
    "fhist = np.zeros(nsteps)\n",
    "for i in range(nsteps):\n",
    "    fhist[i] = la.norm(F_true(history[i]))\n",
    "plt.figure()\n",
    "\n",
    "plt.semilogy(np.arange(0, nsteps), fhist, linewidth=1)\n",
    "plt.title('Convergence Performance')\n",
    "plt.xlabel('Iteration count')\n",
    "plt.ylabel('r$|f^k - f^*|$')\n",
    "plt.show()"
   ]
  },
  {
   "cell_type": "markdown",
   "metadata": {
    "collapsed": true
   },
   "source": [
    "# Catenary Equation"
   ]
  },
  {
   "cell_type": "markdown",
   "metadata": {},
   "source": [
    "The system at hand can be described by the following non-linear differential equation:\n",
    "$$\\frac{d^2 u}{dx^2} = c \\sqrt{1 + \\left( \\frac{du}{dx} \\right)^2} $$\n",
    "where $u(x)$ is the vertical height about a point $x$ between the 2 poles. To solve this problem numerically, we discretize the horizontal axis between the 2 poles into N bins. Let $\\mathbf{x} = \\begin{pmatrix} x_0 \\\\ \\vdots \\\\ x_{n-1} \\end{pmatrix}$ be a vector representing interior points separarting 2 neighboring cells. We need to find the optimal heights $\\mathbf{u}(\\mathbf{x}) = \\begin{pmatrix} u(x_0) \\\\ \\vdots \\\\ u(x_{n-1}) \\end{pmatrix} = \\begin{pmatrix} u_0 \\\\ \\vdots \\\\ u_{n-1} \\end{pmatrix}$. Let the vector function $\\mathbf{f}: \\mathbb{R}^n \\rightarrow \\mathbb{R}^n$ be defined as:\n",
    "$$\\mathbf{f} (u) = c \\sqrt{1 + \\left( \\frac{du}{dx} \\right)^2} - \\frac{d^2 u}{dx^2}$$\n",
    "\n",
    "By discretization we can approximate the first and second derivative by:\n",
    "\n",
    "\\begin{cases}\n",
    "\\frac{du}{dx} = \\frac{1}{2h} \\left( u_{i+1} - u_{i-1} \\right) \\\\\n",
    "\\\\ \n",
    "\\frac{d^2 u}{dx^2} = \\frac{1}{h^2} \\left( u_{i+1} - 2u_i + u_{i-1} \\right)\n",
    "\\end{cases}\n",
    "\n",
    "Finally we try to find a root of $\\mathbf{f} (\\cdot)$ as a solution to the above system."
   ]
  },
  {
   "cell_type": "code",
   "execution_count": 64,
   "metadata": {
    "collapsed": true
   },
   "outputs": [],
   "source": [
    "def catenary(u):\n",
    "    #using the canonical form\n",
    "    c=0.5\n",
    "    l=2\n",
    "    r=3\n",
    "    N=len(u+2)\n",
    "    h=5/N\n",
    "    #d=np.linspace(0,5,N)\n",
    "    f=autograd.numpy.zeros((len(u)))\n",
    "    f=autograd.builtins.list(f)\n",
    "    for i in range(len(u)):\n",
    "        if i==0:\n",
    "           \n",
    "            f[i]=1/(-h**2)*(-l+2*u[i]-u[i+1])-c*autograd.numpy.sqrt(1+(1/(2*h)*(u[i+1]-l))**2)\n",
    "        elif i==len(u)-1:\n",
    "            f[i]=1/(-h**2)*(-u[i-1]+2*u[i]-r)-c*autograd.numpy.sqrt(1+(1/(2*h)*(r-u[i-1]))**2)\n",
    "        else:\n",
    "            f[i]=1/(-h**2)*(-u[i-1]+2*u[i]-u[i+1])-c*autograd.numpy.sqrt(1+(1/(2*h)*(u[i+1]-u[i-1]))**2)\n",
    "            \n",
    "    return autograd.numpy.array(f)\n",
    "\n",
    "grad_catenary = autograd.jacobian(catenary)"
   ]
  },
  {
   "cell_type": "code",
   "execution_count": 65,
   "metadata": {
    "collapsed": true
   },
   "outputs": [],
   "source": [
    "# solving the problem using newton method\n",
    "u=np.ones(98)\n",
    "history=u\n",
    "while(la.norm(catenary(u)) > 1e-6):\n",
    "    \n",
    "    #inv=la.pinv(grad_catenary(u),rcond=1e-20)\n",
    "    inv=la.inv(grad_catenary(u))\n",
    "    d_x=-inv@catenary(u)\n",
    "    u=u+d_x\n",
    "    history = np.vstack( (history, u) )"
   ]
  },
  {
   "cell_type": "code",
   "execution_count": 31,
   "metadata": {},
   "outputs": [
    {
     "ename": "TypeError",
     "evalue": "object of type 'numpy.float64' has no len()",
     "output_type": "error",
     "traceback": [
      "\u001b[1;31m---------------------------------------------------------------------------\u001b[0m",
      "\u001b[1;31mTypeError\u001b[0m                                 Traceback (most recent call last)",
      "\u001b[1;32m<ipython-input-31-4de584682c6d>\u001b[0m in \u001b[0;36m<module>\u001b[1;34m()\u001b[0m\n\u001b[0;32m      3\u001b[0m \u001b[0mfhist\u001b[0m \u001b[1;33m=\u001b[0m \u001b[0mnp\u001b[0m\u001b[1;33m.\u001b[0m\u001b[0mzeros\u001b[0m\u001b[1;33m(\u001b[0m\u001b[0mnsteps\u001b[0m\u001b[1;33m)\u001b[0m\u001b[1;33m\u001b[0m\u001b[0m\n\u001b[0;32m      4\u001b[0m \u001b[1;32mfor\u001b[0m \u001b[0mi\u001b[0m \u001b[1;32min\u001b[0m \u001b[0mrange\u001b[0m\u001b[1;33m(\u001b[0m\u001b[0mnsteps\u001b[0m\u001b[1;33m)\u001b[0m\u001b[1;33m:\u001b[0m\u001b[1;33m\u001b[0m\u001b[0m\n\u001b[1;32m----> 5\u001b[1;33m     \u001b[0mfhist\u001b[0m\u001b[1;33m[\u001b[0m\u001b[0mi\u001b[0m\u001b[1;33m]\u001b[0m \u001b[1;33m=\u001b[0m \u001b[0mla\u001b[0m\u001b[1;33m.\u001b[0m\u001b[0mnorm\u001b[0m\u001b[1;33m(\u001b[0m\u001b[0mcatenary\u001b[0m\u001b[1;33m(\u001b[0m\u001b[0mhistory\u001b[0m\u001b[1;33m[\u001b[0m\u001b[0mi\u001b[0m\u001b[1;33m]\u001b[0m\u001b[1;33m)\u001b[0m\u001b[1;33m)\u001b[0m\u001b[1;33m\u001b[0m\u001b[0m\n\u001b[0m\u001b[0;32m      6\u001b[0m \u001b[0mplt\u001b[0m\u001b[1;33m.\u001b[0m\u001b[0mfigure\u001b[0m\u001b[1;33m(\u001b[0m\u001b[1;33m)\u001b[0m\u001b[1;33m\u001b[0m\u001b[0m\n\u001b[0;32m      7\u001b[0m \u001b[1;33m\u001b[0m\u001b[0m\n",
      "\u001b[1;32m<ipython-input-29-f730e440142a>\u001b[0m in \u001b[0;36mcatenary\u001b[1;34m(u)\u001b[0m\n\u001b[0;32m      4\u001b[0m     \u001b[0ml\u001b[0m\u001b[1;33m=\u001b[0m\u001b[1;36m2\u001b[0m\u001b[1;33m\u001b[0m\u001b[0m\n\u001b[0;32m      5\u001b[0m     \u001b[0mr\u001b[0m\u001b[1;33m=\u001b[0m\u001b[1;36m3\u001b[0m\u001b[1;33m\u001b[0m\u001b[0m\n\u001b[1;32m----> 6\u001b[1;33m     \u001b[0mN\u001b[0m\u001b[1;33m=\u001b[0m\u001b[0mlen\u001b[0m\u001b[1;33m(\u001b[0m\u001b[0mu\u001b[0m\u001b[1;33m+\u001b[0m\u001b[1;36m2\u001b[0m\u001b[1;33m)\u001b[0m\u001b[1;33m\u001b[0m\u001b[0m\n\u001b[0m\u001b[0;32m      7\u001b[0m     \u001b[0mh\u001b[0m\u001b[1;33m=\u001b[0m\u001b[1;36m5\u001b[0m\u001b[1;33m/\u001b[0m\u001b[0mN\u001b[0m\u001b[1;33m\u001b[0m\u001b[0m\n\u001b[0;32m      8\u001b[0m     \u001b[1;31m#d=np.linspace(0,5,N)\u001b[0m\u001b[1;33m\u001b[0m\u001b[1;33m\u001b[0m\u001b[0m\n",
      "\u001b[1;31mTypeError\u001b[0m: object of type 'numpy.float64' has no len()"
     ]
    }
   ],
   "source": [
    "plt.rcParams[\"figure.figsize\"] = \"5,5\"\n",
    "nsteps = history.shape[0]\n",
    "fhist = np.zeros(nsteps)\n",
    "for i in range(nsteps):\n",
    "    fhist[i] = la.norm(catenary(history[i]))\n",
    "plt.figure()\n",
    "\n",
    "plt.semilogy(np.arange(0, nsteps), fhist, linewidth=1)\n",
    "plt.title('Convergence Performance')\n",
    "plt.xlabel('Iteration count')\n",
    "plt.ylabel('r$|f^k - f^*|$')\n",
    "plt.show()"
   ]
  },
  {
   "cell_type": "code",
   "execution_count": 314,
   "metadata": {},
   "outputs": [
    {
     "data": {
      "image/png": "[encoded data removed]",
      "text/plain": [
       "<matplotlib.figure.Figure at 0x1ef3b671208>"
      ]
     },
     "metadata": {},
     "output_type": "display_data"
    }
   ],
   "source": [
    "plt.plot(history[-1], linewidth=1)\n",
    "plt.title('Catenary Function Solution')\n",
    "plt.xlabel('Iteration count')\n",
    "plt.ylabel('r$|f^k - f^*|$')\n",
    "plt.show()"
   ]
  }
 ],
 "metadata": {
  "kernelspec": {
   "display_name": "Python 3",
   "language": "python",
   "name": "python3"
  },
  "language_info": {
   "codemirror_mode": {
    "name": "ipython",
    "version": 3
   },
   "file_extension": ".py",
   "mimetype": "text/x-python",
   "name": "python",
   "nbconvert_exporter": "python",
   "pygments_lexer": "ipython3",
   "version": "3.6.3"
  },
  "latex_envs": {
   "LaTeX_envs_menu_present": true,
   "autoclose": false,
   "autocomplete": true,
   "bibliofile": "biblio.bib",
   "cite_by": "apalike",
   "current_citInitial": 1,
   "eqLabelWithNumbers": true,
   "eqNumInitial": 1,
   "hotkeys": {
    "equation": "Ctrl-E",
    "itemize": "Ctrl-I"
   },
   "labels_anchors": false,
   "latex_user_defs": false,
   "report_style_numbering": false,
   "user_envs_cfg": false
  },
  "varInspector": {
   "cols": {
    "lenName": 16,
    "lenType": 16,
    "lenVar": 40
   },
   "kernels_config": {
    "python": {
     "delete_cmd_postfix": "",
     "delete_cmd_prefix": "del ",
     "library": "var_list.py",
     "varRefreshCmd": "print(var_dic_list())"
    },
    "r": {
     "delete_cmd_postfix": ") ",
     "delete_cmd_prefix": "rm(",
     "library": "var_list.r",
     "varRefreshCmd": "cat(var_dic_list()) "
    }
   },
   "types_to_exclude": [
    "module",
    "function",
    "builtin_function_or_method",
    "instance",
    "_Feature"
   ],
   "window_display": false
  }
 },
 "nbformat": 4,
 "nbformat_minor": 2
}
